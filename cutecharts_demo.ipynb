{
 "cells": [
  {
   "cell_type": "markdown",
   "metadata": {},
   "source": [
    "[cutecharts](https://github.com/cutecharts/cutecharts.py.git)\n",
    "\n",
    "see examples\n",
    "\n",
    "`pip install cutecharts`"
   ]
  },
  {
   "cell_type": "code",
   "execution_count": 9,
   "metadata": {},
   "outputs": [
    {
     "data": {
      "text/html": [
       "\n",
       "<script>\n",
       "    require.config({\n",
       "        paths: {\n",
       "           'chartXkcd':'https://cdn.jsdelivr.net/npm/chart.xkcd@1.1/dist/chart.xkcd.min'\n",
       "        }\n",
       "    });\n",
       "</script>\n",
       "\n",
       "    <div id=\"5f55adbd04334642a56d5068083cb71b\" class=\"chart-container\" style=\"width: 800px\">\n",
       "        <svg id=\"chart_5f55adbd04334642a56d5068083cb71b\"></svg>\n",
       "    </div>\n",
       "    <script>\n",
       "        require(['chartXkcd'], function(chartXkcd) {\n",
       "            const svg_5f55adbd04334642a56d5068083cb71b = document.querySelector('#chart_5f55adbd04334642a56d5068083cb71b')\n",
       "            const chart_5f55adbd04334642a56d5068083cb71b = new chartXkcd.Bar(svg_5f55adbd04334642a56d5068083cb71b, {\"title\": \"Graphique en barres\", \"data\": {\"datasets\": [{\"label\": \"Ventes\", \"data\": [20, 40, 30, 50, 60]}], \"labels\": [\"Janvier\", \"F\\u00e9vrier\", \"Mars\", \"Avril\", \"Mai\"]}, \"xLabel\": \"Mois\", \"yLabel\": \"Ventes\", \"options\": {\"yTickCount\": 3}});\n",
       "        })\n",
       "    </script>\n",
       "    <div id=\"be0f4a0791f74c3c962013f7d426a293\" class=\"chart-container\" style=\"width: 800px\">\n",
       "        <svg id=\"chart_be0f4a0791f74c3c962013f7d426a293\"></svg>\n",
       "    </div>\n",
       "    <script>\n",
       "        require(['chartXkcd'], function(chartXkcd) {\n",
       "            const svg_be0f4a0791f74c3c962013f7d426a293 = document.querySelector('#chart_be0f4a0791f74c3c962013f7d426a293')\n",
       "            const chart_be0f4a0791f74c3c962013f7d426a293 = new chartXkcd.Line(svg_be0f4a0791f74c3c962013f7d426a293, {\"title\": \"Graphique en ligne\", \"data\": {\"datasets\": [{\"label\": \"Temp\\u00e9rature\", \"data\": [10, 30, 20, 50, 40]}], \"labels\": [\"Lundi\", \"Mardi\", \"Mercredi\", \"Jeudi\", \"Vendredi\"]}, \"xLabel\": \"Jour\", \"yLabel\": \"Temp\\u00e9rature\", \"options\": {\"yTickCount\": 3, \"legendPosition\": 1}});\n",
       "        })\n",
       "    </script>\n"
      ],
      "text/plain": [
       "<cutecharts.render.engine.HTML at 0x257d39904f0>"
      ]
     },
     "execution_count": 9,
     "metadata": {},
     "output_type": "execute_result"
    }
   ],
   "source": [
    "from cutecharts.charts import Bar, Line, Pie, Radar\n",
    "from cutecharts.components import Page\n",
    "\n",
    "# Données pour les graphiques\n",
    "data_bar = {\n",
    "    'labels': ['Janvier', 'Février', 'Mars', 'Avril', 'Mai'],\n",
    "    'values': [20, 40, 30, 50, 60]\n",
    "}\n",
    "\n",
    "data_line = {\n",
    "    'labels': ['Lundi', 'Mardi', 'Mercredi', 'Jeudi', 'Vendredi'],\n",
    "    'values': [10, 30, 20, 50, 40]\n",
    "}\n",
    "\n",
    "data_pie = {\n",
    "    'labels': ['Pommes', 'Bananes', 'Oranges'],\n",
    "    'values': [30, 40, 30]\n",
    "}\n",
    "\n",
    "data_radar = {\n",
    "    'labels': ['Force', 'Agilité', 'Intelligence', 'Charisme'],\n",
    "    'values': [[80, 60, 90, 70], [50, 90, 60, 80]]  # Deux jeux de données pour le radar\n",
    "}\n",
    "\n",
    "\n",
    "# Créer les graphiques\n",
    "def bar_base() -> Bar:\n",
    "    chart_bar = Bar(\"Graphique en barres\")\n",
    "    chart_bar.set_options(labels=data_bar['labels'], x_label=\"Mois\", y_label=\"Ventes\")\n",
    "    chart_bar.add_series(\"Ventes\", data_bar['values'])\n",
    "    return chart_bar\n",
    "\n",
    "def line_base() -> Line:\n",
    "    chart_line = Line(\"Graphique en ligne\")\n",
    "    chart_line.set_options(labels=data_line['labels'], x_label=\"Jour\", y_label=\"Température\")\n",
    "    chart_line.add_series(\"Température\", data_line['values'])\n",
    "    return chart_line\n",
    "\n",
    "# une sorte de subplot\n",
    "page = Page()\n",
    "page.add(bar_base(), line_base())\n",
    "page.render_notebook()\n",
    "\n",
    "# Afficher les graphiques"
   ]
  },
  {
   "cell_type": "code",
   "execution_count": 10,
   "metadata": {},
   "outputs": [
    {
     "data": {
      "text/html": [
       "\n",
       "<script>\n",
       "    require.config({\n",
       "        paths: {\n",
       "            'chartXkcd':'https://cdn.jsdelivr.net/npm/chart.xkcd@1.1/dist/chart.xkcd.min'\n",
       "        }\n",
       "    });\n",
       "</script>\n",
       "\n",
       "<div id=\"e0e1cf95895d4bd8870431309c561390\" class=\"chart-container\" style=\"width: 800px\">\n",
       "        <svg id=\"chart_e0e1cf95895d4bd8870431309c561390\"></svg>\n",
       "    </div>\n",
       "    <script>\n",
       "        require(['chartXkcd'], function(chartXkcd) {\n",
       "            const svg_e0e1cf95895d4bd8870431309c561390 = document.querySelector('#chart_e0e1cf95895d4bd8870431309c561390')\n",
       "            const chart_e0e1cf95895d4bd8870431309c561390 = new chartXkcd.Pie(svg_e0e1cf95895d4bd8870431309c561390, {\"title\": \"Graphique en secteurs\", \"data\": {\"datasets\": [{\"data\": [30, 40, 30]}], \"labels\": [\"Pommes\", \"Bananes\", \"Oranges\"]}, \"options\": {\"innerRadius\": 0.5, \"legendPosition\": 1}});\n",
       "        })\n",
       "    </script>\n"
      ],
      "text/plain": [
       "<cutecharts.render.engine.HTML at 0x257d27e3970>"
      ]
     },
     "execution_count": 10,
     "metadata": {},
     "output_type": "execute_result"
    }
   ],
   "source": [
    "chart_pie = Pie(\"Graphique en secteurs\")\n",
    "chart_pie.set_options(labels=data_pie['labels'])\n",
    "chart_pie.add_series(data_pie['values'])\n",
    "chart_pie.render_notebook()"
   ]
  },
  {
   "cell_type": "code",
   "execution_count": 11,
   "metadata": {},
   "outputs": [
    {
     "data": {
      "text/html": [
       "\n",
       "<script>\n",
       "    require.config({\n",
       "        paths: {\n",
       "            'chartXkcd':'https://cdn.jsdelivr.net/npm/chart.xkcd@1.1/dist/chart.xkcd.min'\n",
       "        }\n",
       "    });\n",
       "</script>\n",
       "\n",
       "<div id=\"b7772904cbe1482fb5542cb44eafe8ee\" class=\"chart-container\" style=\"width: 800px\">\n",
       "        <svg id=\"chart_b7772904cbe1482fb5542cb44eafe8ee\"></svg>\n",
       "    </div>\n",
       "    <script>\n",
       "        require(['chartXkcd'], function(chartXkcd) {\n",
       "            const svg_b7772904cbe1482fb5542cb44eafe8ee = document.querySelector('#chart_b7772904cbe1482fb5542cb44eafe8ee')\n",
       "            const chart_b7772904cbe1482fb5542cb44eafe8ee = new chartXkcd.Radar(svg_b7772904cbe1482fb5542cb44eafe8ee, {\"title\": \"Graphique en radar\", \"data\": {\"datasets\": [{\"label\": \"Personnage 1\", \"data\": [80, 60, 90, 70]}, {\"label\": \"Personnage 2\", \"data\": [50, 90, 60, 80]}], \"labels\": [\"Force\", \"Agilit\\u00e9\", \"Intelligence\", \"Charisme\"]}, \"options\": {\"showLegend\": true, \"showLabel\": true, \"tickCount\": 3, \"legendPosition\": 1}});\n",
       "        })\n",
       "    </script>\n"
      ],
      "text/plain": [
       "<cutecharts.render.engine.HTML at 0x257f2c7e970>"
      ]
     },
     "execution_count": 11,
     "metadata": {},
     "output_type": "execute_result"
    }
   ],
   "source": [
    "\n",
    "chart_radar = Radar(\"Graphique en radar\")\n",
    "chart_radar.set_options(labels=data_radar['labels'])\n",
    "chart_radar.add_series(\"Personnage 1\", data_radar['values'][0])\n",
    "chart_radar.add_series(\"Personnage 2\", data_radar['values'][1])\n",
    "chart_radar.render_notebook()"
   ]
  }
 ],
 "metadata": {
  "kernelspec": {
   "display_name": ".venv",
   "language": "python",
   "name": "python3"
  },
  "language_info": {
   "codemirror_mode": {
    "name": "ipython",
    "version": 3
   },
   "file_extension": ".py",
   "mimetype": "text/x-python",
   "name": "python",
   "nbconvert_exporter": "python",
   "pygments_lexer": "ipython3",
   "version": "3.9.12"
  }
 },
 "nbformat": 4,
 "nbformat_minor": 2
}
